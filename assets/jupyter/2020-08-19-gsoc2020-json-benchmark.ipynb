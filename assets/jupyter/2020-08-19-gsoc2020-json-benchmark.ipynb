{
 "cells": [
  {
   "cell_type": "markdown",
   "metadata": {},
   "source": [
    "# Support for the JSON data format after GSoC 2020\n",
    "\n",
    "The [Google Summer of Code (GSoC) 2020](https://summerofcode.withgoogle.com/)\n",
    "will end with this August.\n",
    "I had the pleasure to mentor\n",
    "[Abdallah Elshamy](https://abdallahshamy.wordpress.com/)\n",
    "working on the implementation of the `jsondecode()` and `jsonencode()`\n",
    "functions for Octave.\n",
    "These function allow to convert [JSON data](https://en.wikipedia.org/wiki/JSON)\n",
    "strings to Octave Objects and vice versa.\n",
    "\n",
    "Last week\n",
    "[we pushed most of Abdallah's work](https://hg.savannah.gnu.org/hgweb/octave/rev/5da49e37a6c9)\n",
    "to the main Octave repository,\n",
    "but he is still working on the functions\n",
    "and hopefully still after GSoC 2020 is over.\n",
    "Now as it is very convenient to use the JSON functions,\n",
    "I gave them a try with larger JSON data.\n",
    "Some of the test cases I collected from the excellent\n",
    "[nativejson-benchmark](https://github.com/miloyip/nativejson-benchmark),\n",
    "but with focus on Octave.\n",
    "Another\n",
    "[test by Abdallah](https://lists.gnu.org/archive/html/octave-maintainers/2020-06/msg00112.html)\n",
    "has been carried out in June to test the compatibility for Matlab.\n",
    "\n",
    "Only the running times for reading and writing JSON data\n",
    "are regarded in this benchmark.\n",
    "\n",
    "The test environment is a laptop with\n",
    "- [Intel(R) Core(TM) i7-8665U CPU @ 1.90GHz](https://ark.intel.com/content/www/us/en/ark/products/193563/intel-core-i7-8665u-processor-8m-cache-up-to-4-80-ghz.html)\n",
    "- 16 GB of main memory\n",
    "- OpenSUSE 15.2 Linux\n",
    "- [JupyterLab](https://github.com/siko1056/jupyterlab-runner)\n",
    "- Octave version as given below"
   ]
  },
  {
   "cell_type": "code",
   "execution_count": 1,
   "metadata": {},
   "outputs": [
    {
     "name": "stdout",
     "output_type": "stream",
     "text": [
      "octave_version = 7.0.0\n",
      "octave_hg_id = 173807014259\n"
     ]
    }
   ],
   "source": [
    "octave_version = version ()\n",
    "octave_hg_id   = version ('-hgid')"
   ]
  },
  {
   "cell_type": "markdown",
   "metadata": {},
   "source": [
    "The following JSON extensions for Octave are under test.\n",
    "\n",
    "| name | description |\n",
    "| --- | --- |\n",
    "| [Octave (builtin)](https://abdallahshamy.wordpress.com/) | Based on [RapidJSON](https://rapidjson.org/), reading DOM API. |\n",
    "| [octave-rapidjson](https://github.com/Andy1978/octave-rapidjson) | Based on [RapidJSON](https://rapidjson.org/), reading SAX API. |\n",
    "| [octave-jsonstuff](https://github.com/apjanke/octave-jsonstuff) | Based on [RapidJSON](https://rapidjson.org/), reading DOM API, writing m-file. |\n",
    "| [JSONio](https://github.com/gllmflndn/JSONio) | Based on [JSMN](https://zserge.com/jsmn/), writing m-file. |\n",
    "| [jsonlab](https://github.com/fangq/jsonlab) | m-file only |\n",
    "\n"
   ]
  },
  {
   "cell_type": "markdown",
   "metadata": {},
   "source": [
    "The JSON test files are described in the following table.\n",
    "\n",
    "| name | size (byte) | description |\n",
    "| --- | --: | --- |\n",
    "| [citm_catalog.json](https://github.com/RichardHightower/json-parsers-benchmark/blob/master/data/citm_catalog.json) | 1,727,204 | Structured data with mixed text and numeric. |\n",
    "| [canada.json](https://github.com/mloskot/json_benchmark/blob/master/data/canada.json) | 2,251,060 | Numeric data set in [GeoJSON](https://en.wikipedia.org/wiki/GeoJSONhttps://en.wikipedia.org/wiki/GeoJSON) format. |\n",
    "| [large-file.json](https://github.com/json-iterator/test-data/blob/master/large-file.json) | 26,141,343 | Structured data with mixed text and numeric. |"
   ]
  },
  {
   "cell_type": "markdown",
   "metadata": {},
   "source": [
    "## Benchmark setup\n",
    "\n",
    "Create a directory to keep track of the mess."
   ]
  },
  {
   "cell_type": "code",
   "execution_count": 2,
   "metadata": {},
   "outputs": [],
   "source": [
    "mkdir ('benchmark');\n",
    "cd ('benchmark');"
   ]
  },
  {
   "cell_type": "markdown",
   "metadata": {},
   "source": [
    "Load the benchmark JSON files."
   ]
  },
  {
   "cell_type": "code",
   "execution_count": 3,
   "metadata": {},
   "outputs": [],
   "source": [
    "if (exist ('citm_catalog.json', 'file') ~= 2)\n",
    "  urlwrite ( ...\n",
    "    'https://github.com/RichardHightower/json-parsers-benchmark/raw/master/data/citm_catalog.json', ...\n",
    "    'citm_catalog.json');\n",
    "end\n",
    "\n",
    "if (exist ('canada.json', 'file') ~= 2)\n",
    "  urlwrite ( ...\n",
    "    'https://github.com/mloskot/json_benchmark/raw/master/data/canada.json', ...\n",
    "    'canada.json');\n",
    "end\n",
    "\n",
    "if (exist ('large-file.json', 'file') ~= 2)\n",
    "  urlwrite ( ...\n",
    "    'https://github.com/json-iterator/test-data/raw/master/large-file.json', ...\n",
    "    'large-file.json');\n",
    "end"
   ]
  },
  {
   "cell_type": "markdown",
   "metadata": {},
   "source": [
    "Setup **octave-rapidjson**."
   ]
  },
  {
   "cell_type": "code",
   "execution_count": 4,
   "metadata": {},
   "outputs": [],
   "source": [
    "if (exist ('octave-rapidjson', 'dir') == 0)\n",
    "  urlwrite ( ...\n",
    "    'https://github.com/Andy1978/octave-rapidjson/archive/2d88511712032b14dea4c2272d82249e7547772a.zip', ...\n",
    "    'octave-rapidjson.zip');\n",
    "  unzip  ('octave-rapidjson.zip');\n",
    "  rename ('octave-rapidjson-2d88511712032b14dea4c2272d82249e7547772a', ...\n",
    "          'octave-rapidjson');\n",
    "  cd ('octave-rapidjson')\n",
    "  urlwrite ( ...\n",
    "    'https://github.com/Tencent/rapidjson/archive/35e480fc4ddf4ec4f7ad34d96353eef0aabf002d.zip', ...\n",
    "    'rapidjson.zip');\n",
    "  unzip  ('rapidjson.zip');\n",
    "  rename ('rapidjson-35e480fc4ddf4ec4f7ad34d96353eef0aabf002d', 'rapidjson');\n",
    "  mkoctfile -Wall -Wextra -I./rapidjson/include load_json.cc\n",
    "  mkoctfile -Wall -Wextra -I./rapidjson/include save_json.cc\n",
    "  cd ('..')\n",
    "end"
   ]
  },
  {
   "cell_type": "markdown",
   "metadata": {},
   "source": [
    "Setup **octave-jsonstuff**."
   ]
  },
  {
   "cell_type": "code",
   "execution_count": 5,
   "metadata": {},
   "outputs": [],
   "source": [
    "if (isempty (pkg ('list', 'jsonstuff')))\n",
    "  pkg install https://github.com/apjanke/octave-jsonstuff/releases/download/v0.3.3/jsonstuff-0.3.3.tar.gz\n",
    "end"
   ]
  },
  {
   "cell_type": "markdown",
   "metadata": {},
   "source": [
    "Setup **JSONio**."
   ]
  },
  {
   "cell_type": "code",
   "execution_count": 6,
   "metadata": {},
   "outputs": [],
   "source": [
    "if (exist ('JSONio', 'dir') == 0)\n",
    "  urlwrite ( ...\n",
    "    'https://github.com/gllmflndn/JSONio/archive/6c699a315ac2c578864d8b740a061bff47b718bf.zip', ...\n",
    "    'JSONio.zip');\n",
    "  unzip  ('JSONio.zip');\n",
    "  rename ('JSONio-6c699a315ac2c578864d8b740a061bff47b718bf', 'JSONio');\n",
    "  cd ('JSONio')\n",
    "  mkoctfile --mex jsonread.c jsmn.c -DJSMN_PARENT_LINKS\n",
    "  cd ('..')\n",
    "end"
   ]
  },
  {
   "cell_type": "markdown",
   "metadata": {},
   "source": [
    "Setup **jsonlab**."
   ]
  },
  {
   "cell_type": "code",
   "execution_count": 7,
   "metadata": {},
   "outputs": [],
   "source": [
    "if (exist ('jsonlab', 'dir') == 0)\n",
    "  urlwrite ( ...\n",
    "    'https://github.com/fangq/jsonlab/archive/d0fb684bd43165d312063345bdb795b628b2c679.zip', ...\n",
    "    'jsonlab.zip');\n",
    "  unzip  ('jsonlab.zip');\n",
    "  rename ('jsonlab-d0fb684bd43165d312063345bdb795b628b2c679', 'jsonlab');\n",
    "end"
   ]
  },
  {
   "cell_type": "markdown",
   "metadata": {},
   "source": [
    "## Benchmark run\n",
    "\n",
    "The benchmark function reads the respective JSON file into a string\n",
    "and calls the libraries reading and writing function."
   ]
  },
  {
   "cell_type": "code",
   "execution_count": 8,
   "metadata": {},
   "outputs": [],
   "source": [
    "function t = benchmark (json_read_fcn, json_write_fcn)\n",
    "  test_files = {'citm_catalog.json', 'canada.json', 'large-file.json'};\n",
    "  N = length (test_files);\n",
    "  t = nan (N, 2);\n",
    "  for i = 1:N\n",
    "    json_str = fileread (test_files{i});\n",
    "    tic ();\n",
    "    octave_obj = json_read_fcn (json_str);\n",
    "    t(i,1) = toc ();\n",
    "    tic ();\n",
    "    json_str2 = json_write_fcn (octave_obj);\n",
    "    t(i,2) = toc ();\n",
    "  end\n",
    "end"
   ]
  },
  {
   "cell_type": "markdown",
   "metadata": {},
   "source": [
    "The results for the **Matlab (R2020b, prerelease)** have been measured\n",
    "on the same system without JupyterLab."
   ]
  },
  {
   "cell_type": "code",
   "execution_count": 9,
   "metadata": {},
   "outputs": [],
   "source": [
    "t.matlab = [\n",
    "  0.0768, 0.0853;\n",
    "  0.1510, 0.5405;\n",
    "  1.2222, 0.6521];"
   ]
  },
  {
   "cell_type": "markdown",
   "metadata": {},
   "source": [
    "**Octave (7.0.0, development version)**"
   ]
  },
  {
   "cell_type": "code",
   "execution_count": 10,
   "metadata": {},
   "outputs": [],
   "source": [
    "t.octave = benchmark (@jsondecode, @jsonencode);"
   ]
  },
  {
   "cell_type": "markdown",
   "metadata": {},
   "source": [
    "**octave-rapidjson**"
   ]
  },
  {
   "cell_type": "code",
   "execution_count": 11,
   "metadata": {},
   "outputs": [],
   "source": [
    "addpath ('octave-rapidjson')\n",
    "t.rapid_json = benchmark (@load_json, @save_json);\n",
    "rmpath ('octave-rapidjson')"
   ]
  },
  {
   "cell_type": "markdown",
   "metadata": {},
   "source": [
    "**octave-jsonstuff**: No results due to an error."
   ]
  },
  {
   "cell_type": "code",
   "execution_count": 12,
   "metadata": {},
   "outputs": [],
   "source": [
    "%pkg load jsonstuff\n",
    "%t.jsonstuff = benchmark (@jsondecode, @jsonencode);\n",
    "%error: cat: field names mismatch in concatenating structs\n",
    "%error: called from\n",
    "%    jsondecode>condense_decoded_json_recursive at line 116 column 9\n",
    "%    jsondecode>condense_decoded_json at line 67 column 7\n",
    "%    jsondecode at line 63 column 7\n",
    "%    benchmark at line 8 column 16\n",
    "%pkg unload jsonstuff"
   ]
  },
  {
   "cell_type": "markdown",
   "metadata": {},
   "source": [
    "**JSONio**: Because of the long running time, the results of the first run\n",
    "are saved here."
   ]
  },
  {
   "cell_type": "code",
   "execution_count": 13,
   "metadata": {},
   "outputs": [],
   "source": [
    "addpath ('JSONio')\n",
    "%t.jsonio = benchmark (@jsonread, @jsonwrite);\n",
    "t.jsonio = [ ...\n",
    "  0.9583,  30.5410;\n",
    "  6.1333,  17.4022;\n",
    "  4.3382, 552.8929];\n",
    "rmpath ('JSONio')"
   ]
  },
  {
   "cell_type": "markdown",
   "metadata": {},
   "source": [
    "**Jsonlab**: Because of the long running time, the results of the first run\n",
    "are saved here."
   ]
  },
  {
   "cell_type": "code",
   "execution_count": 14,
   "metadata": {},
   "outputs": [],
   "source": [
    "addpath ('jsonlab')\n",
    "%t.jsonlab = benchmark (@loadjson, @savejson);\n",
    "t.jsonlab = [ ...\n",
    "   35.6242,  26.0625;\n",
    "    6.1303,   0.7365;\n",
    "  372.2456, 601.5318];\n",
    "rmpath ('jsonlab')"
   ]
  },
  {
   "cell_type": "markdown",
   "metadata": {},
   "source": [
    "## Benchmark results"
   ]
  },
  {
   "cell_type": "code",
   "execution_count": 15,
   "metadata": {},
   "outputs": [],
   "source": [
    "graphics_toolkit ('qt')\n",
    "titles = {'citm\\_catalog.json (2 MB, mixed)',\n",
    "          'canada.json (2 MB, numeric)', ...\n",
    "          'large-file.json (26 MB, mixed)'};"
   ]
  },
  {
   "cell_type": "code",
   "execution_count": 16,
   "metadata": {},
   "outputs": [
    {
     "data": {
      "image/png": "[encoded data removed]",
      "text/plain": [
       "<IPython.core.display.Image object>"
      ]
     },
     "metadata": {},
     "output_type": "display_data"
    }
   ],
   "source": [
    "for i = 1:3\n",
    "  subplot (3, 1, i);\n",
    "  bar ([t.matlab(i,:); t.octave(i,:); t.rapid_json(i,:)]');\n",
    "  legend ({'Matlab (R2020b, pre)', 'Octave (7.0.0, dev)', ...\n",
    "           'octave-rapidjson'}, 'Location', 'bestoutside');\n",
    "  xticklabels({'read','write'});\n",
    "  ylabel ('time in seconds');\n",
    "  title (titles{i});\n",
    "end"
   ]
  },
  {
   "cell_type": "code",
   "execution_count": 17,
   "metadata": {},
   "outputs": [
    {
     "data": {
      "image/png": "[encoded data removed]",
      "text/plain": [
       "<IPython.core.display.Image object>"
      ]
     },
     "metadata": {},
     "output_type": "display_data"
    }
   ],
   "source": [
    "for i = 1:3\n",
    "  subplot (3, 1, i);\n",
    "  bar ([t.jsonio(i,:); t.jsonlab(i,:)]');\n",
    "  legend ({'JSONio', 'jsonlab'}, 'Location', 'bestoutside');\n",
    "  xticklabels({'read','write'});\n",
    "  ylabel ('time in seconds');\n",
    "  title (titles{i});\n",
    "end"
   ]
  },
  {
   "cell_type": "markdown",
   "metadata": {},
   "source": [
    "The results are not as overwhelming as I initially hoped for.\n",
    "The first figure compares the running times of **Matlab**, **Octave**, and\n",
    "**octave-rapidjson**.\n",
    "As both **Octave** and **octave-rapidjson** are based on RapidJSON,\n",
    "it must be the choice of the API (DOM vs. SAX) that slows down the current\n",
    "Octave implementation (DOM) by a factor of 10 to 100.\n",
    "**octave-rapidjson**, using the SAX API,\n",
    "is for the mixed data case not slower than Matlab.\n",
    "But the implementation itself is less Matlab compatible than the current\n",
    "Octave implementation.\n",
    "The choice of DOM for the current Octave implementation was made to achieve\n",
    "best compatibility to Matlab.\n",
    "\n",
    "On the positive side,\n",
    "in the case of more numeric data (canada.json)\n",
    "the DOM API outperforms the SAX API.\n",
    "Nevertheless,\n",
    "my humble assumption is that mixed data is more common for JSON data files.\n",
    "\n",
    "The results of **JSONio** and **jsonlab** are split into a second figure,\n",
    "as the running times are significantly larger than those of the first figure.\n",
    "For **octave-jsonstuff** we could due to an error not obtain any results.\n",
    "I'll inform the maintainer to hopefully in the future repeat this benchmark.\n",
    "\n",
    "GSoC 2020 is over,\n",
    "but regarding this benchmark Octave should seriously consider switching\n",
    "to the SAX API and additionally preserve the current Matlab compatibility.\n",
    "\n",
    "> August 19, 2020 (Version 1)\n",
    ">\n",
    "> Download the [Jupyter Notebook](https://siko1056.github.io/assets/jupyter/2020-08-19-gsoc2020-json-benchmark.ipynb)."
   ]
  },
  {
   "cell_type": "code",
   "execution_count": null,
   "metadata": {},
   "outputs": [],
   "source": []
  }
 ],
 "metadata": {
  "kernelspec": {
   "display_name": "Octave",
   "language": "octave",
   "name": "octave"
  },
  "language_info": {
   "file_extension": ".m",
   "help_links": [
    {
     "text": "GNU Octave",
     "url": "https://www.gnu.org/software/octave/support.html"
    },
    {
     "text": "Octave Kernel",
     "url": "https://github.com/Calysto/octave_kernel"
    },
    {
     "text": "MetaKernel Magics",
     "url": "https://metakernel.readthedocs.io/en/latest/source/README.html"
    }
   ],
   "mimetype": "text/x-octave",
   "name": "octave",
   "version": "7.0.0"
  }
 },
 "nbformat": 4,
 "nbformat_minor": 4
}
