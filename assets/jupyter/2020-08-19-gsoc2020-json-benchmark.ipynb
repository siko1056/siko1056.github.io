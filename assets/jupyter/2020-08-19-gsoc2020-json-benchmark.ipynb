{
 "cells": [
  {
   "cell_type": "markdown",
   "metadata": {},
   "source": [
    "# Benchmark\n",
    "\n",
    "https://github.com/miloyip/nativejson-benchmark"
   ]
  },
  {
   "cell_type": "code",
   "execution_count": 1,
   "metadata": {},
   "outputs": [
    {
     "name": "stdout",
     "output_type": "stream",
     "text": [
      "octave_version = 7.0.0\n",
      "octave_hg_id = 173807014259\n"
     ]
    }
   ],
   "source": [
    "octave_version = version ()\n",
    "octave_hg_id   = version ('-hgid')"
   ]
  },
  {
   "cell_type": "markdown",
   "metadata": {},
   "source": [
    "## The JSON libraries under test\n",
    "\n",
    "- [Octave](https://abdallahshamy.wordpress.com/)\n",
    "- [octave-rapidjson](https://github.com/Andy1978/octave-rapidjson)\n",
    "- [JSONio](https://github.com/gllmflndn/JSONio)\n",
    "- [jsonlab](https://github.com/fangq/jsonlab)"
   ]
  },
  {
   "cell_type": "code",
   "execution_count": 2,
   "metadata": {},
   "outputs": [],
   "source": [
    "mkdir ('benchmark');\n",
    "cd ('benchmark');"
   ]
  },
  {
   "cell_type": "markdown",
   "metadata": {},
   "source": [
    "# The test files\n",
    "\n",
    "| foo | bar |\n",
    "| --- | --- |\n",
    "| baz | bim |\n",
    "\n",
    "| `citm_catalog.json` | (1,727,204 Byte) | [(source)](https://github.com/RichardHightower/json-parsers-benchmark/blob/master/data/citm_catalog.json) | Structured data with mixed text and numeric. |\n",
    "| --- | --- | --- | --- |\n",
    "| `canada.json` | (2,251,060 Byte) | [(source)](https://github.com/mloskot/json_benchmark/blob/master/data/canada.json) | Numeric data set in [GeoJSON](https://en.wikipedia.org/wiki/GeoJSONhttps://en.wikipedia.org/wiki/GeoJSON) format.\n",
    "| --- | --- | --- | --- |\n",
    "- `large-file.json` (26,141,343 Byte)\n",
    "  [(source)](https://github.com/json-iterator/test-data/blob/master/large-file.json)\n",
    "  Structured data with mixed text and numeric."
   ]
  },
  {
   "cell_type": "code",
   "execution_count": 3,
   "metadata": {},
   "outputs": [],
   "source": [
    "if (exist ('citm_catalog.json', 'file') != 2)\n",
    "  urlwrite ( ...\n",
    "    'https://github.com/RichardHightower/json-parsers-benchmark/raw/master/data/citm_catalog.json', ...\n",
    "    'citm_catalog.json');\n",
    "end\n",
    "\n",
    "if (exist ('canada.json', 'file') != 2)\n",
    "  urlwrite ( ...\n",
    "    'https://github.com/mloskot/json_benchmark/raw/master/data/canada.json', ...\n",
    "    'canada.json');\n",
    "end\n",
    "\n",
    "if (exist ('large-file.json', 'file') != 2)\n",
    "  urlwrite ( ...\n",
    "    'https://github.com/json-iterator/test-data/raw/master/large-file.json', ...\n",
    "    'large-file.json');\n",
    "end"
   ]
  },
  {
   "cell_type": "markdown",
   "metadata": {},
   "source": [
    "## The benchmark"
   ]
  },
  {
   "cell_type": "code",
   "execution_count": 4,
   "metadata": {},
   "outputs": [],
   "source": [
    "function t = benchmark (json_read_fcn, json_write_fcn)\n",
    "  test_files = {'citm_catalog.json', 'canada.json', 'large-file.json'};\n",
    "  N = length (test_files);\n",
    "  t = nan (N, 2);\n",
    "  for i = 1:N\n",
    "    json_str = fileread (test_files{i});\n",
    "    tic ();\n",
    "    octave_obj = json_read_fcn (json_str);\n",
    "    t(i,1) = toc ();\n",
    "    tic ();\n",
    "    json_str2 = json_write_fcn (octave_obj);\n",
    "    t(i,2) = toc ();\n",
    "  end\n",
    "end"
   ]
  },
  {
   "cell_type": "markdown",
   "metadata": {},
   "source": [
    "### Matlab (R2020b, prerelease)\n",
    "\n",
    "The results have been measured on the same machine, wihout JupyterLab."
   ]
  },
  {
   "cell_type": "code",
   "execution_count": 5,
   "metadata": {},
   "outputs": [],
   "source": [
    "t.matlab = [\n",
    "  0.0768, 0.0853;\n",
    "  0.1510, 0.5405;\n",
    "  1.2222, 0.6521];"
   ]
  },
  {
   "cell_type": "markdown",
   "metadata": {},
   "source": [
    "### Octave (7.0.0, development version)"
   ]
  },
  {
   "cell_type": "code",
   "execution_count": 6,
   "metadata": {},
   "outputs": [],
   "source": [
    "t.octave = benchmark (@jsondecode, @jsonencode);"
   ]
  },
  {
   "cell_type": "markdown",
   "metadata": {},
   "source": [
    "### octave-rapidjson\n",
    "\n",
    "**Installation**"
   ]
  },
  {
   "cell_type": "code",
   "execution_count": 7,
   "metadata": {},
   "outputs": [],
   "source": [
    "if (exist ('octave-rapidjson', 'dir') == 0)\n",
    "  urlwrite ( ...\n",
    "    'https://github.com/Andy1978/octave-rapidjson/archive/2d88511712032b14dea4c2272d82249e7547772a.zip', ...\n",
    "    'octave-rapidjson.zip');\n",
    "  unzip  ('octave-rapidjson.zip');\n",
    "  rename ('octave-rapidjson-2d88511712032b14dea4c2272d82249e7547772a', ...\n",
    "          'octave-rapidjson');\n",
    "  cd ('octave-rapidjson')\n",
    "  urlwrite ( ...\n",
    "    'https://github.com/Tencent/rapidjson/archive/35e480fc4ddf4ec4f7ad34d96353eef0aabf002d.zip', ...\n",
    "    'rapidjson.zip');\n",
    "  unzip  ('rapidjson.zip');\n",
    "  rename ('rapidjson-35e480fc4ddf4ec4f7ad34d96353eef0aabf002d', 'rapidjson');\n",
    "  mkoctfile -Wall -Wextra -I./rapidjson/include load_json.cc\n",
    "  mkoctfile -Wall -Wextra -I./rapidjson/include save_json.cc\n",
    "  cd ('..')\n",
    "end"
   ]
  },
  {
   "cell_type": "markdown",
   "metadata": {},
   "source": [
    "**Benchmark run**"
   ]
  },
  {
   "cell_type": "code",
   "execution_count": 8,
   "metadata": {},
   "outputs": [],
   "source": [
    "addpath ('octave-rapidjson')\n",
    "t.rapid_json = benchmark (@load_json, @save_json);\n",
    "rmpath ('octave-rapidjson')"
   ]
  },
  {
   "cell_type": "markdown",
   "metadata": {},
   "source": [
    "### JSONio"
   ]
  },
  {
   "cell_type": "code",
   "execution_count": 9,
   "metadata": {},
   "outputs": [],
   "source": [
    "if (exist ('JSONio', 'dir') == 0)\n",
    "  urlwrite ( ...\n",
    "    'https://github.com/gllmflndn/JSONio/archive/6c699a315ac2c578864d8b740a061bff47b718bf.zip', ...\n",
    "    'JSONio.zip');\n",
    "  unzip  ('JSONio.zip');\n",
    "  rename ('JSONio-6c699a315ac2c578864d8b740a061bff47b718bf', 'JSONio');\n",
    "  cd ('JSONio')\n",
    "  mkoctfile --mex jsonread.c jsmn.c -DJSMN_PARENT_LINKS\n",
    "  cd ('..')\n",
    "end"
   ]
  },
  {
   "cell_type": "code",
   "execution_count": 10,
   "metadata": {},
   "outputs": [],
   "source": [
    "addpath ('JSONio')\n",
    "%t.jsonio = benchmark (@jsonread, @jsonwrite);\n",
    "t.jsonio = [ ...\n",
    "  0.9583,  30.5410;\n",
    "  6.1333,  17.4022;\n",
    "  4.3382, 552.8929];\n",
    "rmpath ('JSONio')"
   ]
  },
  {
   "cell_type": "markdown",
   "metadata": {},
   "source": [
    "### jsonlab"
   ]
  },
  {
   "cell_type": "code",
   "execution_count": 11,
   "metadata": {},
   "outputs": [],
   "source": [
    "if (exist ('jsonlab', 'dir') == 0)\n",
    "  urlwrite ( ...\n",
    "    'https://github.com/fangq/jsonlab/archive/d0fb684bd43165d312063345bdb795b628b2c679.zip', ...\n",
    "    'jsonlab.zip');\n",
    "  unzip  ('jsonlab.zip');\n",
    "  rename ('jsonlab-d0fb684bd43165d312063345bdb795b628b2c679', 'jsonlab');\n",
    "end"
   ]
  },
  {
   "cell_type": "code",
   "execution_count": null,
   "metadata": {},
   "outputs": [],
   "source": [
    "addpath ('jsonlab')\n",
    "%t.jsonlab = benchmark (@loadjson, @savejson);\n",
    "t.jsonlab = [ ...\n",
    "   35.6242,  26.0625;\n",
    "    6.1303,   0.7365;\n",
    "  372.2456, 601.5318];\n",
    "rmpath ('jsonlab')"
   ]
  },
  {
   "cell_type": "markdown",
   "metadata": {},
   "source": [
    "## The results"
   ]
  },
  {
   "cell_type": "code",
   "execution_count": null,
   "metadata": {},
   "outputs": [],
   "source": [
    "graphics_toolkit ('qt')\n",
    "titles = {'citm\\_catalog.json (mixed)', 'canada.json (numeric)', ...\n",
    "          'large-file.json (mixed)'};"
   ]
  },
  {
   "cell_type": "code",
   "execution_count": null,
   "metadata": {},
   "outputs": [],
   "source": [
    "for i = 1:3\n",
    "  subplot (3, 1, i);\n",
    "  bar ([t.matlab(i,:); t.octave(i,:); t.rapid_json(i,:)]');\n",
    "  legend ({'Matlab (R2020b, pre)', 'Octave (7.0.0, dev)', ...\n",
    "           'octave-rapidjson'}, 'Location', 'bestoutside');\n",
    "  xticklabels({'read','write'});\n",
    "  ylabel ('time in seconds');\n",
    "  title (titles{i});\n",
    "end"
   ]
  },
  {
   "cell_type": "code",
   "execution_count": null,
   "metadata": {},
   "outputs": [],
   "source": [
    "for i = 1:3\n",
    "  subplot (3, 1, i);\n",
    "  bar ([t.jsonio(i,:); t.jsonlab(i,:)]');\n",
    "  legend ({'JSONio', 'jsonlab'}, 'Location', 'bestoutside');\n",
    "  xticklabels({'read','write'});\n",
    "  ylabel ('time in seconds');\n",
    "  title (titles{i});\n",
    "end"
   ]
  },
  {
   "cell_type": "code",
   "execution_count": null,
   "metadata": {},
   "outputs": [],
   "source": []
  }
 ],
 "metadata": {
  "kernelspec": {
   "display_name": "Octave",
   "language": "octave",
   "name": "octave"
  },
  "language_info": {
   "file_extension": ".m",
   "help_links": [
    {
     "text": "GNU Octave",
     "url": "https://www.gnu.org/software/octave/support.html"
    },
    {
     "text": "Octave Kernel",
     "url": "https://github.com/Calysto/octave_kernel"
    },
    {
     "text": "MetaKernel Magics",
     "url": "https://metakernel.readthedocs.io/en/latest/source/README.html"
    }
   ],
   "mimetype": "text/x-octave",
   "name": "octave",
   "version": "7.0.0"
  }
 },
 "nbformat": 4,
 "nbformat_minor": 4
}
